{
 "cells": [
  {
   "cell_type": "code",
   "execution_count": 2,
   "id": "7f2321fa-40cb-44df-a4f7-97cfdfce7194",
   "metadata": {},
   "outputs": [],
   "source": [
    "import pandas as pd\n",
    "import numpy as np"
   ]
  },
  {
   "cell_type": "code",
   "execution_count": 3,
   "id": "2c4451ef-c401-4aea-8f68-1f2d38c27b1d",
   "metadata": {
    "scrolled": true
   },
   "outputs": [
    {
     "name": "stdout",
     "output_type": "stream",
     "text": [
      "       Area Code      Area  Item Code           Item  Element Code  \\\n",
      "0              4   Algeria       2501     Population           511   \n",
      "1              4   Algeria       2501     Population          5301   \n",
      "2              4   Algeria       2901    Grand Total           664   \n",
      "3              4   Algeria       2901    Grand Total           674   \n",
      "4              4   Algeria       2901    Grand Total           684   \n",
      "...          ...       ...        ...            ...           ...   \n",
      "60938        181  Zimbabwe       2899  Miscellaneous          5142   \n",
      "60939        181  Zimbabwe       2899  Miscellaneous           645   \n",
      "60940        181  Zimbabwe       2899  Miscellaneous           664   \n",
      "60941        181  Zimbabwe       2899  Miscellaneous           674   \n",
      "60942        181  Zimbabwe       2899  Miscellaneous           684   \n",
      "\n",
      "                                      Element             Unit     Y2014  \\\n",
      "0               Total Population - Both sexes     1000 persons  38924.00   \n",
      "1                    Domestic supply quantity      1000 tonnes      0.00   \n",
      "2               Food supply (kcal/capita/day)  kcal/capita/day   3377.00   \n",
      "3      Protein supply quantity (g/capita/day)     g/capita/day     94.90   \n",
      "4          Fat supply quantity (g/capita/day)     g/capita/day     80.06   \n",
      "...                                       ...              ...       ...   \n",
      "60938                                    Food      1000 tonnes     42.00   \n",
      "60939     Food supply quantity (kg/capita/yr)               kg      3.06   \n",
      "60940           Food supply (kcal/capita/day)  kcal/capita/day      3.00   \n",
      "60941  Protein supply quantity (g/capita/day)     g/capita/day      0.10   \n",
      "60942      Fat supply quantity (g/capita/day)     g/capita/day      0.04   \n",
      "\n",
      "          Y2015     Y2016     Y2017     Y2018  \n",
      "0      39728.00  40551.00  41389.00  42228.00  \n",
      "1          0.00      0.00      0.00      0.00  \n",
      "2       3379.00   3372.00   3341.00   3322.00  \n",
      "3         94.35     94.72     92.82     91.83  \n",
      "4         79.36     77.40     80.19     77.28  \n",
      "...         ...       ...       ...       ...  \n",
      "60938     46.00     33.00     19.00     16.00  \n",
      "60939      3.33      2.35      1.33      1.08  \n",
      "60940      4.00      3.00      1.00      1.00  \n",
      "60941      0.11      0.08      0.04      0.04  \n",
      "60942      0.05      0.03      0.02      0.01  \n",
      "\n",
      "[60943 rows x 12 columns]\n"
     ]
    }
   ],
   "source": [
    "df= pd.read_csv(r\"C:\\Users\\AJ\\Downloads\\FoodBalanceSheets_E_Africa_NOFLAG.csv\", encoding = \"latin-1\")\n",
    "print(df)"
   ]
  },
  {
   "cell_type": "code",
   "execution_count": 4,
   "id": "4ae5b354-37dc-4988-8c78-fb79ed45aa33",
   "metadata": {},
   "outputs": [
    {
     "name": "stdout",
     "output_type": "stream",
     "text": [
      "60943\n",
      "1589\n",
      "2.6073544131401474\n"
     ]
    }
   ],
   "source": [
    "# what is the total number and percentage of missing data in 2014 to 3 decimal places\n",
    "total_number= len(df)\n",
    "total_number_missing_data= df.Y2014.isnull().sum()\n",
    "percentage = ((total_number_missing_data/total_number) * 100)\n",
    "print(total_number)\n",
    "print(total_number_missing_data)\n",
    "print(percentage)"
   ]
  },
  {
   "cell_type": "code",
   "execution_count": 5,
   "id": "902d77ee-dc07-4271-b5fd-5f65cdec8dc3",
   "metadata": {},
   "outputs": [
    {
     "name": "stdout",
     "output_type": "stream",
     "text": [
      "8\n"
     ]
    }
   ],
   "source": [
    "#question 4\n",
    "y=[(2,4),(7,8),(1,5,9)]\n",
    "x = y[1][-1]\n",
    "print(x)"
   ]
  },
  {
   "cell_type": "code",
   "execution_count": 6,
   "id": "965313b4-0b01-4abc-b84b-2074045ddade",
   "metadata": {},
   "outputs": [
    {
     "name": "stdout",
     "output_type": "stream",
     "text": [
      "Y2014\n"
     ]
    },
    {
     "name": "stderr",
     "output_type": "stream",
     "text": [
      "C:\\Users\\AJ\\AppData\\Local\\Temp\\ipykernel_3120\\222371937.py:3: FutureWarning: Series.__getitem__ treating keys as positions is deprecated. In a future version, integer keys will always be treated as labels (consistent with DataFrame behavior). To access a value by position, use `ser.iloc[pos]`\n",
      "  max_sum_year = stock_variation.idxmax(axis=1)[0]\n"
     ]
    }
   ],
   "source": [
    "#question 5\n",
    "stock_variation = df[df['Element'] == 'Stock Variation'].groupby('Element')[['Y2014','Y2015','Y2016','Y2017','Y2018']].sum()\n",
    "max_sum_year = stock_variation.idxmax(axis=1)[0]\n",
    "print(max_sum_year)"
   ]
  },
  {
   "cell_type": "code",
   "execution_count": 7,
   "id": "c2eef671-4744-43da-8ed6-f95ff5de955c",
   "metadata": {},
   "outputs": [
    {
     "data": {
      "text/plain": [
       "'e'"
      ]
     },
     "execution_count": 7,
     "metadata": {},
     "output_type": "execute_result"
    }
   ],
   "source": [
    "#question 6\n",
    "S= [['him','sell'],[90,28,43]]\n",
    "S[0][1][1]"
   ]
  },
  {
   "cell_type": "code",
   "execution_count": 8,
   "id": "1db3cec4-9645-4256-b355-87f503034f22",
   "metadata": {},
   "outputs": [
    {
     "name": "stdout",
     "output_type": "stream",
     "text": [
      "173.04999999999998\n"
     ]
    }
   ],
   "source": [
    "#question 8\n",
    "#what is the total protein supply in madagascar in 2015\n",
    "madagascar_df= df[df['Area'] == 'Madagascar']\n",
    "protein_supply_2015 = madagascar_df[(madagascar_df['Element'] == 'Protein supply quantity (g/capita/day)') & (madagascar_df['Unit'] == 'g/capita/day')]['Y2015']\n",
    "total_protein_supply_2015 = protein_supply_2015.sum()\n",
    "print(total_protein_supply_2015)"
   ]
  },
  {
   "cell_type": "code",
   "execution_count": null,
   "id": "5d207e71-72f2-4c4b-b1a0-55b3d8c187f2",
   "metadata": {},
   "outputs": [],
   "source": [
    "#question 5\n",
    "#Which year had the least correlation with ‘Element Code’?\n",
    "correlation_with_element_code = df.filter(like='Y').corrwith(df['Element Code'])\n",
    "min_corr_year = correlation_with_element_code.idxmin()\n",
    "min_corr_value = correlation_with_element_code[min_corr_year]\n",
    "print(min_corr_year)"
   ]
  },
  {
   "cell_type": "code",
   "execution_count": 16,
   "id": "35b11677-492f-48e5-857e-ee5da4383ee9",
   "metadata": {},
   "outputs": [
    {
     "name": "stdout",
     "output_type": "stream",
     "text": [
      "Guinea-Bissau\n"
     ]
    }
   ],
   "source": [
    "#Select columns ‘Y2017’ and ‘Area’, Perform a groupby operation on ‘Area’.  Which of these Areas had the 7th lowest sum in 2017?\n",
    "selected_columns = df[['Y2017','Area']].groupby('Area')['Y2017'].sum()\n",
    "sorted_sums = selected_columns.sort_values()\n",
    "lowest_7th_sum = sorted_sums.index[6]\n",
    "print(lowest_7th_sum)"
   ]
  },
  {
   "cell_type": "code",
   "execution_count": null,
   "id": "ae1279c8-f4fd-4548-8bd8-33e97d6aff51",
   "metadata": {},
   "outputs": [],
   "source": [
    "#What is the total sum of Wine produced in 2015 and 2018 respectively?\n",
    "wine_produced = df[df['Item'] == 'Wine'].groupby('Item')[['Y2015','Y2018']].sum()\n",
    "total_wine_produced_2015 = wine_produced['Y2015'].values[0]\n",
    "total_wine_produced_2018 = wine_produced['Y2018'].values[0]\n",
    "\n",
    "print(\"Total sum of Wine produced in 2015:\", total_wine_produced_2015)\n",
    "print(\"Total sum of Wine produced in 2018:\", total_wine_produced_2018)"
   ]
  },
  {
   "cell_type": "code",
   "execution_count": 10,
   "id": "9be24e9d-ae49-47d4-88b4-792b681b1a31",
   "metadata": {},
   "outputs": [
    {
     "name": "stdout",
     "output_type": "stream",
     "text": [
      "140.92\n",
      "1671.86\n"
     ]
    }
   ],
   "source": [
    "#What is the mean and standard deviation across the whole dataset for the year 2017 to 2 decimal places?\n",
    "values_from_2017 = df['Y2017']\n",
    "mean_from_2017= values_from_2017.mean()\n",
    "std_from_2017 = values_from_2017.std()\n",
    "mean_rounded_up = round(mean_from_2017,2)\n",
    "std_rounded_up = round(std_from_2017,2)\n",
    "print(mean_rounded_up)\n",
    "print(std_rounded_up)"
   ]
  },
  {
   "cell_type": "code",
   "execution_count": 13,
   "id": "3f9dd804-e222-45f4-b6f2-8c037e996d60",
   "metadata": {},
   "outputs": [
    {
     "name": "stdout",
     "output_type": "stream",
     "text": [
      "0\n"
     ]
    }
   ],
   "source": [
    "#Perform a groupby operation on ‘Element’.  What is the total number of the sum of Processing in 2017?\n",
    "element_grouped = df.groupby('Element')['Y2017'].sum()\n",
    "processing_sum_2017 = element_grouped.get('processing',0)\n",
    "print(processing_sum_2017)"
   ]
  },
  {
   "cell_type": "code",
   "execution_count": 14,
   "id": "b10fe6b2-b6de-46cf-a290-2efcdd55dec2",
   "metadata": {},
   "outputs": [
    {
     "name": "stdout",
     "output_type": "stream",
     "text": [
      "Nigeria\n"
     ]
    }
   ],
   "source": [
    "#Select columns ‘Y2017’ and ‘Area’, Perform a groupby operation on ‘Area’.  Which of these Areas had the highest sum in 2017?\n",
    "selected_columns =df[['Y2017','Area']].groupby('Area')['Y2017'].sum()\n",
    "areas_highest_sum = selected_columns.idxmax()\n",
    "print(areas_highest_sum)"
   ]
  },
  {
   "cell_type": "code",
   "execution_count": 15,
   "id": "d3328264-3c01-491a-9050-233292b49a5c",
   "metadata": {},
   "outputs": [
    {
     "data": {
      "text/plain": [
       "(60943, 12)"
      ]
     },
     "execution_count": 15,
     "metadata": {},
     "output_type": "execute_result"
    }
   ],
   "source": [
    "df.shape"
   ]
  },
  {
   "cell_type": "code",
   "execution_count": 11,
   "id": "8de7a80f-087b-4a75-87ec-c953117f56bb",
   "metadata": {},
   "outputs": [
    {
     "name": "stdout",
     "output_type": "stream",
     "text": [
      "49\n"
     ]
    }
   ],
   "source": [
    "#question 20\n",
    "#total number of unique countries\n",
    "total_unique_countries = df['Area'].nunique()\n",
    "print(total_unique_countries)"
   ]
  },
  {
   "cell_type": "code",
   "execution_count": null,
   "id": "ea842ed7-0fd2-4ca7-953b-ac68fcef4f73",
   "metadata": {},
   "outputs": [],
   "source": [
    "#groupby operation on element,what is the total number of the sum of processing in 2017\n",
    "t0tal_num_sum_processing = df.groupby('Element')"
   ]
  },
  {
   "cell_type": "code",
   "execution_count": null,
   "id": "e1c2f4df-2542-4fb1-a4f4-63946c264ed7",
   "metadata": {},
   "outputs": [],
   "source": []
  },
  {
   "cell_type": "code",
   "execution_count": null,
   "id": "ace56e9a-e88a-45ea-8a30-ef96c4ed0de5",
   "metadata": {},
   "outputs": [],
   "source": []
  },
  {
   "cell_type": "code",
   "execution_count": null,
   "id": "dbdab712-3e66-4835-b68b-1e88eb17a429",
   "metadata": {},
   "outputs": [],
   "source": []
  },
  {
   "cell_type": "code",
   "execution_count": null,
   "id": "f36f0738-9dab-4fad-8123-c2ecaca307e2",
   "metadata": {},
   "outputs": [],
   "source": []
  }
 ],
 "metadata": {
  "kernelspec": {
   "display_name": "Python 3 (ipykernel)",
   "language": "python",
   "name": "python3"
  },
  "language_info": {
   "codemirror_mode": {
    "name": "ipython",
    "version": 3
   },
   "file_extension": ".py",
   "mimetype": "text/x-python",
   "name": "python",
   "nbconvert_exporter": "python",
   "pygments_lexer": "ipython3",
   "version": "3.11.7"
  }
 },
 "nbformat": 4,
 "nbformat_minor": 5
}
